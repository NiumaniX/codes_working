{
 "cells": [
  {
   "cell_type": "code",
   "execution_count": 1,
   "metadata": {
    "scrolled": true
   },
   "outputs": [
    {
     "name": "stdout",
     "output_type": "stream",
     "text": [
      "Welcome to use Wind Quant API for Python (WindPy)!\n",
      "\n",
      "COPYRIGHT (C) 2020 WIND INFORMATION CO., LTD. ALL RIGHTS RESERVED.\n",
      "IN NO CIRCUMSTANCE SHALL WIND BE RESPONSIBLE FOR ANY DAMAGES OR LOSSES CAUSED BY USING WIND QUANT API FOR Python.\n"
     ]
    }
   ],
   "source": [
    "import pandas as pd\n",
    "import numpy as np\n",
    "\n",
    "import smtplib\n",
    "from email.mime.text import MIMEText\n",
    "from email.header import Header\n",
    "from smtplib import SMTP_SSL\n",
    "from email.mime.text import MIMEText\n",
    "from email.mime.multipart import MIMEMultipart\n",
    "from email.header import Header\n",
    "import os\n",
    "import smtplib\n",
    "from email.mime.base import MIMEBase\n",
    "#from email.mime.multipart import MIMEMultipart\n",
    "#from email.mime.text import MIMEText\n",
    "from email import encoders\n",
    "from email.header import make_header\n",
    "\n",
    "import xlwt\n",
    "#import pymongo\n",
    "#from pymongo import MongoClient\n",
    "from WindPy import *\n",
    "w.start()\n",
    "\n",
    "\n",
    "class Mailer:\n",
    "    def __init__(self, p_mailConfig):\n",
    "        self.mailServer = p_mailConfig['mailServer']  # 邮箱服务器地址\n",
    "        self.port = p_mailConfig['port']\n",
    "        self.mailUser = p_mailConfig['mailUser']  # 邮箱用户名\n",
    "        self.mailPassword = p_mailConfig['mailPassword']  # 邮箱密码：需要使用授权码\n",
    "        self.msg = MIMEMultipart()\n",
    "        self.mailFrom = \"\"\n",
    "        self.mailTo = \"\"\n",
    "    def setFrom(self, p_from):\n",
    "        self.msg['From'] = p_from\n",
    "        self.mailFrom = p_from\n",
    "\n",
    "    def setTo(self, p_receiver,c_receiver):  # 收件人，多个收件人用逗号隔开\n",
    "        self.msg['To'] = Header(','.join(p_receiver))\n",
    "        self.msg['Cc'] = Header(','.join(c_receiver))  # 抄送者\n",
    "        all_receivers = p_receiver+c_receiver\n",
    "        self.mailTo = all_receivers\n",
    "\n",
    "    def setBcc(self, p_bcc):\n",
    "        self.msg['Bcc'] = p_bcc\n",
    "\n",
    "    def setSubject(self, p_subject):\n",
    "        self.msg['Subject'] = p_subject\n",
    "\n",
    "    def setText(self, p_text):\n",
    "        self.msg.attach(MIMEText(p_text, 'html', 'utf-8'))\n",
    "\n",
    "    def attachFile(self, p_directory, p_fileName):   # directory:  /tmp/dir/\n",
    "        part = MIMEBase('application', \"octet-stream\")\n",
    "        part.set_payload(open(p_directory + p_fileName, \"rb\").read())\n",
    "        encoders.encode_base64(part)\n",
    "        print(p_fileName)\n",
    "        part.add_header('Content-Disposition', 'attachment', filename=make_header([(p_fileName, 'UTF-8')]).encode('UTF-8'))\n",
    "        self.msg.attach(part)\n",
    "\n",
    "    def send(self):\n",
    "        smtp = smtplib.SMTP(self.mailServer, self.port)\n",
    "        try:\n",
    "            smtp.login(self.mailUser, self.mailPassword)  # 登录邮箱\n",
    "            smtp.sendmail(self.mailFrom, self.mailTo, self.msg.as_string())  # 参数分别是发送者，接收者，第三个是把上面的发送邮件的内容变成字符串\n",
    "        except Exception as e:\n",
    "            print(e)\n",
    "        else:\n",
    "            print('mail send successfully!')\n",
    "        smtp.quit()  # 发送完毕后退出smtp\n",
    "        \n"
   ]
  },
  {
   "cell_type": "code",
   "execution_count": 1,
   "metadata": {},
   "outputs": [
    {
     "ename": "NameError",
     "evalue": "name 'w' is not defined",
     "output_type": "error",
     "traceback": [
      "\u001b[1;31m---------------------------------------------------------------------------\u001b[0m",
      "\u001b[1;31mNameError\u001b[0m                                 Traceback (most recent call last)",
      "\u001b[1;32m<ipython-input-1-e70f7ca64928>\u001b[0m in \u001b[0;36m<module>\u001b[1;34m\u001b[0m\n\u001b[0;32m      2\u001b[0m \u001b[0mtoday\u001b[0m \u001b[1;33m=\u001b[0m \u001b[1;34m'2021-11-22'\u001b[0m\u001b[1;33m\u001b[0m\u001b[1;33m\u001b[0m\u001b[0m\n\u001b[0;32m      3\u001b[0m \u001b[1;33m\u001b[0m\u001b[0m\n\u001b[1;32m----> 4\u001b[1;33m \u001b[0mdates\u001b[0m \u001b[1;33m=\u001b[0m \u001b[0mw\u001b[0m\u001b[1;33m.\u001b[0m\u001b[0mtdays\u001b[0m\u001b[1;33m(\u001b[0m\u001b[0mtoday\u001b[0m\u001b[1;33m,\u001b[0m \u001b[0mtoday\u001b[0m\u001b[1;33m,\u001b[0m \u001b[1;34m\"\"\u001b[0m\u001b[1;33m)\u001b[0m\u001b[1;33m.\u001b[0m\u001b[0mData\u001b[0m\u001b[1;33m[\u001b[0m\u001b[1;36m0\u001b[0m\u001b[1;33m]\u001b[0m\u001b[1;33m\u001b[0m\u001b[1;33m\u001b[0m\u001b[0m\n\u001b[0m\u001b[0;32m      5\u001b[0m \u001b[1;32mfor\u001b[0m \u001b[0mdate\u001b[0m \u001b[1;32min\u001b[0m \u001b[0mdates\u001b[0m\u001b[1;33m:\u001b[0m\u001b[1;33m\u001b[0m\u001b[1;33m\u001b[0m\u001b[0m\n\u001b[0;32m      6\u001b[0m \u001b[1;33m\u001b[0m\u001b[0m\n",
      "\u001b[1;31mNameError\u001b[0m: name 'w' is not defined"
     ]
    }
   ],
   "source": [
    "# 分发日报\n",
    "today = '2021-11-22'\n",
    "\n",
    "dates = w.tdays(today, today, \"\").Data[0]\n",
    "for date in dates:\n",
    "    \n",
    "    rpt_date = str(date)[:10]\n",
    "    xls_path = r'D:\\估值表\\产品分类估值表\\\\'\n",
    "    \n",
    "    m_mailConfig = {}\n",
    "    m_mailConfig['mailServer'] = \"mail.xxxx.com.cn\"\n",
    "    m_mailConfig['port'] = 25\n",
    "    m_mailConfig['mailUser'] = \"XXX\"\n",
    "    m_mailConfig['mailPassword'] = \"xxxxxx\"\n",
    "    m_mailer = Mailer(m_mailConfig)\n",
    "    m_mailer.setFrom(\"XXXX.com.cn\")\n",
    "    receivers = ['XXXXX.com.cn']\n",
    "    c_receiver = [\"xxxx@.com.cn\"] #抄送\n",
    "    m_mailer.setTo(receivers,c_receiver) \n",
    "    \n",
    "    att_name = '证券投资基金估值表_安信资管安鑫金选2号集合资产管理计划_'+''.join(rpt_date.split('-'))+'.xls'\n",
    "    att_path = xls_path+att_name\n",
    "    m_mailer.setSubject(att_name)\n",
    "    mail_content = '<br>各位领导、同事好。\\n <br>附件为估值表。\\n <br>请查阅。<br>祝工作顺心、万事如意！'\n",
    "    m_mailer.setText(mail_content)\n",
    "    m_mailer.attachFile(xls_path,att_name)\n",
    "    m_mailer.send()\n",
    "    print (\"done\")"
   ]
  },
  {
   "cell_type": "code",
   "execution_count": null,
   "metadata": {},
   "outputs": [],
   "source": []
  }
 ],
 "metadata": {
  "kernelspec": {
   "display_name": "Python 3",
   "language": "python",
   "name": "python3"
  },
  "language_info": {
   "codemirror_mode": {
    "name": "ipython",
    "version": 3
   },
   "file_extension": ".py",
   "mimetype": "text/x-python",
   "name": "python",
   "nbconvert_exporter": "python",
   "pygments_lexer": "ipython3",
   "version": "3.8.3"
  }
 },
 "nbformat": 4,
 "nbformat_minor": 4
}
